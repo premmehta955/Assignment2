{
 "cells": [
  {
   "cell_type": "markdown",
   "id": "e0403981-b389-49cc-a3a5-bfc9af8d8629",
   "metadata": {},
   "source": [
    "Q1. How can we store a single quote(') as a string in a variable?\n",
    "  Answer:\n",
    "    We can store a single quote(') as a string in a variable as present it between two double quote.\n"
   ]
  },
  {
   "cell_type": "markdown",
   "id": "f0bdab03-9633-464d-93af-d471fd29308d",
   "metadata": {},
   "source": [
    "Q2. Refer the below variable:\n",
    "x='a'\n",
    "here, is x a character type or string type variable? Support your answer with an explanation.\n",
    " Answer:\n",
    "   If \"x\" is defined as a single character using single quotes('x'), it would be considered a character type variable. In Python, individual characters are treated as strings of length one. So, even it is a single character, it is still considered a string.\n",
    "   Program input:\n",
    "       x='a'\n",
    "       print(type(x)) #Program Output: <class 'str'>(string type)"
   ]
  },
  {
   "cell_type": "markdown",
   "id": "9990f87f-abb0-4389-a7a9-a26f0a839644",
   "metadata": {},
   "source": [
    "Q3. Apply the following function on this variable:'Welcome to Python foundation course'\n",
    "    1. find()\n",
    "      # Program input:\n",
    "         a='Welcome to Python foundation course'\n",
    "         print(a.find('o')) \n",
    "      # Program output: 4\n",
    "     \n",
    "     2. count()\n",
    "\n",
    "      # Program input:\n",
    "       a='Welcome to Python foundation course'\n",
    "        print(a.count(a))  \n",
    "      # Program output: 1\n",
    "\n",
    "       \n",
    "      3. len()\n",
    "      # Program input:\n",
    "        a='Welcome to Python foundation course'\n",
    "        print(len(a)\n",
    "      # Program output: 35\n",
    "\n",
    "       4. concatenation\n",
    "       # Program input: \n",
    "          a='Welcome to '\n",
    "          b='Python foundation course'\n",
    "          print(a+b)\n",
    "        # Program output: Welcome to Python foundation course"
   ]
  },
  {
   "cell_type": "markdown",
   "id": "e7e23494-bb34-4769-b895-3030c5a74095",
   "metadata": {},
   "source": [
    "Q4. For the variable: word='PanaJi@12256'\n",
    "     calculate the following:\n",
    "    a. Total number of alphabets in lower case\n",
    "        # Prgram input:\n",
    "            word='PanaJi@12256'\n",
    "            lcase = sum(d.islower() for d in word)\n",
    "             print(lcase)\n",
    "        #Program Output:4\n",
    "\n",
    "    b. Total number of alphabets in uppercase\n",
    "        #Program input:\n",
    "            word='PanaJi@12256'\n",
    "            ucase=sum(e.isupper() for e in word)\n",
    "            print(ucase)\n",
    "        #Program Output:2\n",
    "    c. Total number of numberical in string \n",
    "        #Program input:\n",
    "            word='PanaJi@12256'\n",
    "            digitscase = sum(c.isdigit() for c in word)\n",
    "            print(digitscase)\n",
    "        #Program Output:5"
   ]
  },
  {
   "cell_type": "code",
   "execution_count": 12,
   "id": "ff2a93c4-4be4-46a5-b676-96410eaa467e",
   "metadata": {},
   "outputs": [
    {
     "ename": "IndentationError",
     "evalue": "unexpected indent (853581962.py, line 3)",
     "output_type": "error",
     "traceback": [
      "\u001b[0;36m  Cell \u001b[0;32mIn[12], line 3\u001b[0;36m\u001b[0m\n\u001b[0;31m    a =98\u001b[0m\n\u001b[0m    ^\u001b[0m\n\u001b[0;31mIndentationError\u001b[0m\u001b[0;31m:\u001b[0m unexpected indent\n"
     ]
    }
   ],
   "source": [
    "# Q5. Write a code to store a numerical value inside a variable then convert it into string.\n",
    "#     # Program input:\n",
    "       a =98\n",
    "        b=str(a)\n",
    "        print(type(b))"
   ]
  },
  {
   "cell_type": "code",
   "execution_count": 10,
   "id": "dd081aaa-5dfb-4b34-b633-1bc10ac4af5e",
   "metadata": {},
   "outputs": [
    {
     "name": "stdout",
     "output_type": "stream",
     "text": [
      "76\n"
     ]
    }
   ],
   "source": [
    "print(a)"
   ]
  },
  {
   "cell_type": "code",
   "execution_count": null,
   "id": "da29db01-bca9-46a1-8cf2-069a22b0b01a",
   "metadata": {},
   "outputs": [],
   "source": []
  }
 ],
 "metadata": {
  "kernelspec": {
   "display_name": "Python 3 (ipykernel)",
   "language": "python",
   "name": "python3"
  },
  "language_info": {
   "codemirror_mode": {
    "name": "ipython",
    "version": 3
   },
   "file_extension": ".py",
   "mimetype": "text/x-python",
   "name": "python",
   "nbconvert_exporter": "python",
   "pygments_lexer": "ipython3",
   "version": "3.10.8"
  }
 },
 "nbformat": 4,
 "nbformat_minor": 5
}
